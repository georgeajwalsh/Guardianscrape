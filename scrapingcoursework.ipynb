{
 "cells": [
  {
   "cell_type": "code",
   "execution_count": null,
   "metadata": {},
   "outputs": [],
   "source": [
    "import sqlite3"
   ]
  },
  {
   "cell_type": "code",
   "execution_count": null,
   "metadata": {},
   "outputs": [],
   "source": [
    "import requests\n",
    "import json\n",
    "\n",
    "def get_product_info(barcode):\n",
    "    url = f\"https://world.openfoodfacts.org/api/v0/product/{barcode}.json\"\n",
    "    response = requests.get(url)\n",
    "    \n",
    "    if response.status_code == 200:\n",
    "        data = response.json()\n",
    "        if data.get(\"status\") == 1:  # Product found\n",
    "            product = data.get(\"product\", {})\n",
    "            return {\n",
    "                \"name\": product.get(\"product_name\", \"Unknown\"),\n",
    "                \"brands\": product.get(\"brands\", \"Unknown\"),\n",
    "                \"categories\": product.get(\"categories\", \"Unknown\"),\n",
    "                \"ingredients\": product.get(\"ingredients_text\", \"Unknown\"),\n",
    "                \"nutriments\": product.get(\"nutriments\", {}),\n",
    "                \"image_url\": product.get(\"image_url\", \"No Image\")\n",
    "            }\n",
    "        else:\n",
    "            return {\"error\": \"Product not found\"}\n",
    "    else:\n",
    "        return {\"error\": \"Failed to fetch data\"}\n",
    "\n",
    "if __name__ == \"__main__\":\n",
    "    barcode = \"6111035000430\"  # Example barcode\n",
    "    product_info = get_product_info(barcode)\n",
    "    print(json.dumps(product_info, indent=4))"
   ]
  },
  {
   "cell_type": "code",
   "execution_count": null,
   "metadata": {},
   "outputs": [],
   "source": [
    "import requests\n",
    "import json\n",
    "import pandas as pd\n",
    "\n",
    "def get_product_info(barcode):\n",
    "    \"\"\"Fetch product details from OpenFoodFacts API using a barcode.\"\"\"\n",
    "    url = f\"https://world.openfoodfacts.org/api/v0/product/{barcode}.json\"\n",
    "    response = requests.get(url)\n",
    "    \n",
    "    if response.status_code == 200:\n",
    "        data = response.json()\n",
    "        if data.get(\"status\") == 1:  # Product found\n",
    "            product = data.get(\"product\", {})\n",
    "            return {\n",
    "                \"barcode\": barcode,\n",
    "                \"name\": product.get(\"product_name\", \"Unknown\"),\n",
    "                \"brands\": product.get(\"brands\", \"Unknown\"),\n",
    "                \"categories\": product.get(\"categories\", \"Unknown\"),\n",
    "                \"ingredients\": product.get(\"ingredients_text\", \"Unknown\"),\n",
    "                \"nutriments\": product.get(\"nutriments\", {}),\n",
    "                \"image_url\": product.get(\"image_url\", \"No Image\")\n",
    "            }\n",
    "    return None  # Ignore barcodes with no product\n",
    "\n",
    "if __name__ == \"__main__\":\n",
    "    start_barcode = int(\"611103500430\")  # Convert to integer\n",
    "    end_barcode = int(\"6111035001430\")    # Convert to integer\n",
    "\n",
    "    products = []  # List to store valid products\n",
    "\n",
    "    for barcode in range(start_barcode, end_barcode + 1):\n",
    "        formatted_barcode = str(barcode).zfill(13)  # Ensure 13-digit format\n",
    "        print(f\"Checking barcode: {formatted_barcode}\")\n",
    "        \n",
    "        product_info = get_product_info(formatted_barcode)\n",
    "        if product_info:  # Ignore products that were not found\n",
    "            products.append(product_info)\n",
    "\n",
    "    # Convert to DataFrame\n",
    "    df = pd.DataFrame(products)\n",
    "\n",
    "    # Save to CSV\n",
    "    df.to_csv(\"valid_products.csv\", index=False)\n",
    "\n",
    "    # Print the first few rows\n",
    "    print(df.head())\n"
   ]
  },
  {
   "cell_type": "markdown",
   "metadata": {},
   "source": []
  },
  {
   "cell_type": "markdown",
   "metadata": {},
   "source": []
  }
 ],
 "metadata": {
  "kernelspec": {
   "display_name": "Python 3",
   "language": "python",
   "name": "python3"
  },
  "language_info": {
   "codemirror_mode": {
    "name": "ipython",
    "version": 3
   },
   "file_extension": ".py",
   "mimetype": "text/x-python",
   "name": "python",
   "nbconvert_exporter": "python",
   "pygments_lexer": "ipython3",
   "version": "3.12.1"
  }
 },
 "nbformat": 4,
 "nbformat_minor": 2
}
